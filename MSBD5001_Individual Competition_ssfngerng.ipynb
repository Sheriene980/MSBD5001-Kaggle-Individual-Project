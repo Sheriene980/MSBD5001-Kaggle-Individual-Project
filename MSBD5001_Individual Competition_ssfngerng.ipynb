{
 "cells": [
  {
   "cell_type": "code",
   "execution_count": 1,
   "id": "96827520-c6ef-4cca-870d-73a391d5c9fe",
   "metadata": {},
   "outputs": [],
   "source": [
    "import pandas as pd\n",
    "# Import data\n",
    "train = pd.read_csv('train.csv')\n",
    "test = pd.read_csv('test.csv')\n",
    "\n",
    "import numpy as np\n",
    "import seaborn as sns\n",
    "import matplotlib.pyplot as plt\n",
    "from imblearn.over_sampling import SMOTE\n",
    "\n",
    "from sklearn.preprocessing import StandardScaler,MinMaxScaler\n",
    "from sklearn.ensemble import RandomForestClassifier\n",
    "from sklearn.svm import SVC\n",
    "from sklearn.linear_model import SGDClassifier\n",
    "from sklearn.metrics import confusion_matrix, classification_report\n",
    "from sklearn.preprocessing import StandardScaler, LabelEncoder\n",
    "from sklearn.model_selection import train_test_split, GridSearchCV, cross_val_score\n",
    "from sklearn.metrics import classification_report,roc_auc_score,accuracy_score\n",
    "%matplotlib inline\n",
    "\n",
    "import warnings\n",
    "warnings.filterwarnings('ignore')"
   ]
  },
  {
   "cell_type": "markdown",
   "id": "b370b025-bab6-4a0b-9cf1-defacd9ceb14",
   "metadata": {},
   "source": [
    "## Data Preprocessing"
   ]
  },
  {
   "cell_type": "code",
   "execution_count": 2,
   "id": "44d8f6d4-03be-45f8-8921-86e90c92b22f",
   "metadata": {},
   "outputs": [
    {
     "data": {
      "text/html": [
       "<div>\n",
       "<style scoped>\n",
       "    .dataframe tbody tr th:only-of-type {\n",
       "        vertical-align: middle;\n",
       "    }\n",
       "\n",
       "    .dataframe tbody tr th {\n",
       "        vertical-align: top;\n",
       "    }\n",
       "\n",
       "    .dataframe thead th {\n",
       "        text-align: right;\n",
       "    }\n",
       "</style>\n",
       "<table border=\"1\" class=\"dataframe\">\n",
       "  <thead>\n",
       "    <tr style=\"text-align: right;\">\n",
       "      <th></th>\n",
       "      <th>id</th>\n",
       "      <th>MO HLADR+ MFI (cells/ul)</th>\n",
       "      <th>Neu CD64+MFI (cells/ul)</th>\n",
       "      <th>CD3+T (cells/ul)</th>\n",
       "      <th>CD8+T (cells/ul)</th>\n",
       "      <th>CD4+T (cells/ul)</th>\n",
       "      <th>NK (cells/ul)</th>\n",
       "      <th>CD19+ (cells/ul)</th>\n",
       "      <th>CD45+ (cells/ul)</th>\n",
       "      <th>Age</th>\n",
       "      <th>Sex 0M1F</th>\n",
       "      <th>Mono CD64+MFI (cells/ul)</th>\n",
       "      <th>label</th>\n",
       "    </tr>\n",
       "  </thead>\n",
       "  <tbody>\n",
       "    <tr>\n",
       "      <th>0</th>\n",
       "      <td>0</td>\n",
       "      <td>3556.0</td>\n",
       "      <td>2489.0</td>\n",
       "      <td>265.19</td>\n",
       "      <td>77.53</td>\n",
       "      <td>176.55</td>\n",
       "      <td>0.00</td>\n",
       "      <td>4.20</td>\n",
       "      <td>307.91</td>\n",
       "      <td>52</td>\n",
       "      <td>0</td>\n",
       "      <td>7515.0</td>\n",
       "      <td>1</td>\n",
       "    </tr>\n",
       "    <tr>\n",
       "      <th>1</th>\n",
       "      <td>1</td>\n",
       "      <td>1906.0</td>\n",
       "      <td>134.0</td>\n",
       "      <td>1442.61</td>\n",
       "      <td>551.90</td>\n",
       "      <td>876.07</td>\n",
       "      <td>112.10</td>\n",
       "      <td>168.15</td>\n",
       "      <td>1735.48</td>\n",
       "      <td>20</td>\n",
       "      <td>1</td>\n",
       "      <td>1756.0</td>\n",
       "      <td>0</td>\n",
       "    </tr>\n",
       "    <tr>\n",
       "      <th>2</th>\n",
       "      <td>2</td>\n",
       "      <td>1586.0</td>\n",
       "      <td>71.0</td>\n",
       "      <td>1332.74</td>\n",
       "      <td>684.20</td>\n",
       "      <td>655.26</td>\n",
       "      <td>244.95</td>\n",
       "      <td>216.52</td>\n",
       "      <td>1820.04</td>\n",
       "      <td>28</td>\n",
       "      <td>1</td>\n",
       "      <td>1311.0</td>\n",
       "      <td>0</td>\n",
       "    </tr>\n",
       "    <tr>\n",
       "      <th>3</th>\n",
       "      <td>3</td>\n",
       "      <td>683.0</td>\n",
       "      <td>94.0</td>\n",
       "      <td>419.23</td>\n",
       "      <td>255.80</td>\n",
       "      <td>162.17</td>\n",
       "      <td>72.05</td>\n",
       "      <td>44.68</td>\n",
       "      <td>538.22</td>\n",
       "      <td>55</td>\n",
       "      <td>1</td>\n",
       "      <td>1443.0</td>\n",
       "      <td>0</td>\n",
       "    </tr>\n",
       "    <tr>\n",
       "      <th>4</th>\n",
       "      <td>4</td>\n",
       "      <td>1032.0</td>\n",
       "      <td>71.0</td>\n",
       "      <td>1102.72</td>\n",
       "      <td>480.27</td>\n",
       "      <td>625.30</td>\n",
       "      <td>188.78</td>\n",
       "      <td>130.77</td>\n",
       "      <td>1427.97</td>\n",
       "      <td>28</td>\n",
       "      <td>1</td>\n",
       "      <td>1542.0</td>\n",
       "      <td>0</td>\n",
       "    </tr>\n",
       "  </tbody>\n",
       "</table>\n",
       "</div>"
      ],
      "text/plain": [
       "   id  MO HLADR+ MFI (cells/ul)  Neu CD64+MFI (cells/ul)  CD3+T (cells/ul)  \\\n",
       "0   0                    3556.0                   2489.0            265.19   \n",
       "1   1                    1906.0                    134.0           1442.61   \n",
       "2   2                    1586.0                     71.0           1332.74   \n",
       "3   3                     683.0                     94.0            419.23   \n",
       "4   4                    1032.0                     71.0           1102.72   \n",
       "\n",
       "   CD8+T (cells/ul)  CD4+T (cells/ul)  NK (cells/ul)  CD19+ (cells/ul)  \\\n",
       "0             77.53            176.55           0.00              4.20   \n",
       "1            551.90            876.07         112.10            168.15   \n",
       "2            684.20            655.26         244.95            216.52   \n",
       "3            255.80            162.17          72.05             44.68   \n",
       "4            480.27            625.30         188.78            130.77   \n",
       "\n",
       "   CD45+ (cells/ul)  Age  Sex 0M1F  Mono CD64+MFI (cells/ul)  label  \n",
       "0            307.91   52         0                    7515.0      1  \n",
       "1           1735.48   20         1                    1756.0      0  \n",
       "2           1820.04   28         1                    1311.0      0  \n",
       "3            538.22   55         1                    1443.0      0  \n",
       "4           1427.97   28         1                    1542.0      0  "
      ]
     },
     "execution_count": 2,
     "metadata": {},
     "output_type": "execute_result"
    }
   ],
   "source": [
    "train.head()"
   ]
  },
  {
   "cell_type": "code",
   "execution_count": 3,
   "id": "06d7cd9d-3c1d-4ad4-9b7f-aba6061fe5e2",
   "metadata": {},
   "outputs": [
    {
     "name": "stdout",
     "output_type": "stream",
     "text": [
      "<class 'pandas.core.frame.DataFrame'>\n",
      "RangeIndex: 87 entries, 0 to 86\n",
      "Data columns (total 13 columns):\n",
      " #   Column                    Non-Null Count  Dtype  \n",
      "---  ------                    --------------  -----  \n",
      " 0   id                        87 non-null     int64  \n",
      " 1   MO HLADR+ MFI (cells/ul)  86 non-null     float64\n",
      " 2   Neu CD64+MFI (cells/ul)   86 non-null     float64\n",
      " 3   CD3+T (cells/ul)          87 non-null     float64\n",
      " 4   CD8+T (cells/ul)          87 non-null     float64\n",
      " 5   CD4+T (cells/ul)          87 non-null     float64\n",
      " 6   NK (cells/ul)             87 non-null     float64\n",
      " 7   CD19+ (cells/ul)          87 non-null     float64\n",
      " 8   CD45+ (cells/ul)          87 non-null     float64\n",
      " 9   Age                       87 non-null     int64  \n",
      " 10  Sex 0M1F                  87 non-null     int64  \n",
      " 11  Mono CD64+MFI (cells/ul)  86 non-null     float64\n",
      " 12  label                     87 non-null     int64  \n",
      "dtypes: float64(9), int64(4)\n",
      "memory usage: 9.0 KB\n"
     ]
    }
   ],
   "source": [
    "train.info()"
   ]
  },
  {
   "cell_type": "markdown",
   "id": "96fe11f5-4e41-4adc-af8f-885c45055a88",
   "metadata": {},
   "source": [
    "### Missing Data"
   ]
  },
  {
   "cell_type": "code",
   "execution_count": 4,
   "id": "76ee9955-08e0-479e-8e8b-97367c299c24",
   "metadata": {},
   "outputs": [
    {
     "name": "stdout",
     "output_type": "stream",
     "text": [
      "id                          0\n",
      "MO HLADR+ MFI (cells/ul)    1\n",
      "Neu CD64+MFI (cells/ul)     1\n",
      "CD3+T (cells/ul)            0\n",
      "CD8+T (cells/ul)            0\n",
      "CD4+T (cells/ul)            0\n",
      "NK (cells/ul)               0\n",
      "CD19+ (cells/ul)            0\n",
      "CD45+ (cells/ul)            0\n",
      "Age                         0\n",
      "Sex 0M1F                    0\n",
      "Mono CD64+MFI (cells/ul)    1\n",
      "label                       0\n",
      "dtype: int64\n"
     ]
    }
   ],
   "source": [
    "missing_values = train.isnull().sum()\n",
    "print(missing_values)"
   ]
  },
  {
   "cell_type": "markdown",
   "id": "68c94861-8cf4-462a-8c14-d7cf27dd5ded",
   "metadata": {},
   "source": [
    "While checking for missing values, it seems that MO HLADR+ MFI (cells/ul), Neu CD64+MFI (cells/ul) and Mono CD64+MFI (cells/ul) have 3 missing values. In this case, I decided to fill in each missing data with its respective averaged values to overcome this issue without much loss of information provided by other features."
   ]
  },
  {
   "cell_type": "code",
   "execution_count": 5,
   "id": "cab11c2a-8781-459f-a5f0-49249777d49e",
   "metadata": {},
   "outputs": [],
   "source": [
    "for col in [\"MO HLADR+ MFI (cells/ul)\", \"Neu CD64+MFI (cells/ul)\", \"Mono CD64+MFI (cells/ul)\"]:\n",
    "    train[col] = train[col].fillna(train[col].mean())"
   ]
  },
  {
   "cell_type": "markdown",
   "id": "51e0ffc1-7363-474d-bfde-1e4c760dc567",
   "metadata": {},
   "source": [
    "### Imbalanced labels"
   ]
  },
  {
   "cell_type": "code",
   "execution_count": 6,
   "id": "8545ab68-a5ae-4d5b-8d18-f7fd86e6334c",
   "metadata": {},
   "outputs": [
    {
     "data": {
      "text/plain": [
       "<AxesSubplot:xlabel='label', ylabel='MO HLADR+ MFI (cells/ul)'>"
      ]
     },
     "execution_count": 6,
     "metadata": {},
     "output_type": "execute_result"
    },
    {
     "data": {
      "image/png": "[encoded data removed]",
      "text/plain": [
       "<Figure size 720x432 with 1 Axes>"
      ]
     },
     "metadata": {
      "needs_background": "light"
     },
     "output_type": "display_data"
    }
   ],
   "source": [
    "fig = plt.figure(figsize = (10,6))\n",
    "sns.barplot(x = 'label', y = 'MO HLADR+ MFI (cells/ul)', data = train)"
   ]
  },
  {
   "cell_type": "code",
   "execution_count": 7,
   "id": "a43a9a55-eefa-47e9-8e6e-ba8bf185b64e",
   "metadata": {},
   "outputs": [
    {
     "data": {
      "text/plain": [
       "<AxesSubplot:xlabel='label', ylabel='Neu CD64+MFI (cells/ul)'>"
      ]
     },
     "execution_count": 7,
     "metadata": {},
     "output_type": "execute_result"
    },
    {
     "data": {
      "image/png": "[encoded data removed]",
      "text/plain": [
       "<Figure size 720x432 with 1 Axes>"
      ]
     },
     "metadata": {
      "needs_background": "light"
     },
     "output_type": "display_data"
    }
   ],
   "source": [
    "fig = plt.figure(figsize = (10,6))\n",
    "sns.barplot(x = 'label', y = 'Neu CD64+MFI (cells/ul)', data = train)"
   ]
  },
  {
   "cell_type": "code",
   "execution_count": 8,
   "id": "58204f53-6c00-4a03-adb1-236a31f29661",
   "metadata": {},
   "outputs": [
    {
     "data": {
      "text/plain": [
       "<AxesSubplot:xlabel='label', ylabel='Mono CD64+MFI (cells/ul)'>"
      ]
     },
     "execution_count": 8,
     "metadata": {},
     "output_type": "execute_result"
    },
    {
     "data": {
      "image/png": "[encoded data removed]",
      "text/plain": [
       "<Figure size 720x432 with 1 Axes>"
      ]
     },
     "metadata": {
      "needs_background": "light"
     },
     "output_type": "display_data"
    }
   ],
   "source": [
    "fig = plt.figure(figsize = (10,6))\n",
    "sns.barplot(x = 'label', y = 'Mono CD64+MFI (cells/ul)', data = train)"
   ]
  },
  {
   "cell_type": "markdown",
   "id": "29c8a688-dadd-44b1-8438-54e5cc4f56bb",
   "metadata": {},
   "source": [
    "By comparing the important features with the labels given in the train dataset, it can be observed that the train dataset has imbalanced labels. Hence, I decided to use SMOTE to help resample the dataset and balance out the labels used for model prediction later."
   ]
  },
  {
   "cell_type": "code",
   "execution_count": 9,
   "id": "b768b96d-1332-4fba-ba43-45428a76bf82",
   "metadata": {},
   "outputs": [
    {
     "name": "stdout",
     "output_type": "stream",
     "text": [
      "(116, 12) 58\n"
     ]
    }
   ],
   "source": [
    "sm = SMOTE(random_state = 666)\n",
    "train,y = sm.fit_resample(train[[i for i in train.columns if i not in['id','label']]], train['label'])\n",
    "train['label'] = y\n",
    "print(train.shape,train['label'].sum())"
   ]
  },
  {
   "cell_type": "markdown",
   "id": "c8883046-a623-4045-9ecd-591858e0835a",
   "metadata": {},
   "source": [
    "### Log Transformation of Input Features"
   ]
  },
  {
   "cell_type": "markdown",
   "id": "c969cfa7-74b2-489c-946f-fa1d7e8e87c5",
   "metadata": {},
   "source": [
    "With the skewed dataset as observed from the imbalanced labels, log transformation is applied to the rest of the features supplemented to the model for prediction analysis later on. The binary dataset of `Sex0M1F` and `label` are excluded from this log transformation process and it makes sense not to alter the given age information under `Age` as well."
   ]
  },
  {
   "cell_type": "code",
   "execution_count": 10,
   "id": "9c1dfba6-fb05-494c-8f90-ce9a0397a61b",
   "metadata": {},
   "outputs": [],
   "source": [
    "numerical_data = list(set(train.columns) - set(['Sex 0M1F', 'label']))\n",
    "features_column = list(set(numerical_data) - set(['Age']))"
   ]
  },
  {
   "cell_type": "code",
   "execution_count": 11,
   "id": "7cf45de3-5faa-496b-bb16-fc8b830d6097",
   "metadata": {},
   "outputs": [
    {
     "name": "stdout",
     "output_type": "stream",
     "text": [
      "['NK (cells/ul)', 'CD19+ (cells/ul)', 'CD45+ (cells/ul)', 'CD3+T (cells/ul)', 'CD4+T (cells/ul)', 'CD8+T (cells/ul)', 'MO HLADR+ MFI (cells/ul)', 'Neu CD64+MFI (cells/ul)', 'Mono CD64+MFI (cells/ul)']\n"
     ]
    }
   ],
   "source": [
    "print(features_column)"
   ]
  },
  {
   "cell_type": "code",
   "execution_count": 12,
   "id": "09bb883e-0d7a-4559-849f-bbd5a689bd7b",
   "metadata": {},
   "outputs": [],
   "source": [
    "def log_transform(data, selected_features):\n",
    "    for features in selected_features:\n",
    "        data[features] = np.where(data[features]!=0, np.log10(data[features]), 0)\n",
    "    return data\n",
    "\n",
    "train = log_transform(train, features_column)\n",
    "test = log_transform(test, features_column)"
   ]
  },
  {
   "cell_type": "markdown",
   "id": "9f034b7f-e7d8-4e91-a7df-b8200362fac9",
   "metadata": {},
   "source": [
    "### Data Manipulation for Age and Sex Features"
   ]
  },
  {
   "cell_type": "markdown",
   "id": "ae18c2b4-f1cc-4ecd-a226-182a590c6983",
   "metadata": {},
   "source": [
    "The `Age` feature is categorized for easier model training and prediction as we're now increasing the occurences of such incident in an equal interval of ages. Moreover, the binary `Sex0M1F` feature is transformed from a categorical variable into indicator variables. And so, after extracting indicator information from `Sex0M1F`, the column is dropped."
   ]
  },
  {
   "cell_type": "code",
   "execution_count": 13,
   "id": "8b625074-5260-43b0-b5a5-b7c043ac9c55",
   "metadata": {},
   "outputs": [],
   "source": [
    "def transform_age(age):\n",
    "    return age // 5\n",
    "\n",
    "train['Age'] = train['Age'].apply(transform_age)\n",
    "test['Age'] = test['Age'].apply(transform_age)\n",
    "\n",
    "train['Sex 0M1F'] = train['Sex 0M1F'].astype(str)\n",
    "test['Sex 0M1F'] = test['Sex 0M1F'].astype(str)\n",
    "\n",
    "train[['IsMale','IsFemale']] = pd.get_dummies(train['Sex 0M1F'])\n",
    "test[['IsMale','IsFemale']] = pd.get_dummies(test['Sex 0M1F'])\n",
    "\n",
    "train = train.drop('Sex 0M1F',axis=1)\n",
    "test = test.drop('Sex 0M1F',axis=1)"
   ]
  },
  {
   "cell_type": "markdown",
   "id": "628abcf1-4528-4677-a104-f1589a9a1ba8",
   "metadata": {},
   "source": [
    "## Data Transformation with MinMaxScaler()"
   ]
  },
  {
   "cell_type": "markdown",
   "id": "c5ff8d86-a954-49dd-91db-f5f6cb68acee",
   "metadata": {},
   "source": [
    "Without distorting the dataset much, MinMaxScaler() is applied to transform all the given features and standardize them into a range of values from 0 to 1. This allows the data points to be generalized with lower distances between each data point to further rule out the possibly of skewed data."
   ]
  },
  {
   "cell_type": "code",
   "execution_count": 14,
   "id": "185bb5b8-6efd-4e8a-9bd6-24cf63269f68",
   "metadata": {},
   "outputs": [],
   "source": [
    "scaler = MinMaxScaler()\n",
    "columns = ['MO HLADR+ MFI (cells/ul)', 'Neu CD64+MFI (cells/ul)',\n",
    "       'CD3+T (cells/ul)', 'CD8+T (cells/ul)', 'CD4+T (cells/ul)',\n",
    "       'NK (cells/ul)', 'CD19+ (cells/ul)', 'CD45+ (cells/ul)', 'Mono CD64+MFI (cells/ul)']\n",
    "\n",
    "scaler.fit(train[columns])\n",
    "\n",
    "train[columns] = scaler.transform(train[columns])\n",
    "test[columns] = scaler.transform(test[columns])"
   ]
  },
  {
   "cell_type": "markdown",
   "id": "44a5cd57-c954-4299-9997-ef8352640799",
   "metadata": {},
   "source": [
    "## Train-Test Split"
   ]
  },
  {
   "cell_type": "code",
   "execution_count": 15,
   "id": "2700d700-5bf4-4568-b3fc-f1028eefd8d0",
   "metadata": {},
   "outputs": [],
   "source": [
    "X_train,y_train = train[[i for i in train.columns if i not in['id','label']]],train['label']\n",
    "                        \n",
    "X_test = test[[i for i in train.columns if i not in['id','label']]]"
   ]
  },
  {
   "cell_type": "markdown",
   "id": "3b33bf8c-9732-41b8-99ea-65d34864e557",
   "metadata": {},
   "source": [
    "## Prediction Modelling - Random Forest Classifier"
   ]
  },
  {
   "cell_type": "markdown",
   "id": "e460a709-ecf9-4ab2-bb5f-af01f533da97",
   "metadata": {},
   "source": [
    "The random forest classifier model is chosen as it will be able to handle any missing values moving forward and it can also maintain the accuracy while working with a large proportion of data."
   ]
  },
  {
   "cell_type": "code",
   "execution_count": 16,
   "id": "bbfc6965-da6b-4c08-b3f3-72d730d5dba9",
   "metadata": {},
   "outputs": [
    {
     "data": {
      "text/plain": [
       "GridSearchCV(cv=10,\n",
       "             estimator=RandomForestClassifier(n_estimators=200,\n",
       "                                              random_state=39),\n",
       "             param_grid={'class_weight': ['balanced', 'balanced_subsample'],\n",
       "                         'criterion': ('gini', 'entropy'),\n",
       "                         'max_features': ['auto', 'sqrt', 'log2'],\n",
       "                         'min_samples_leaf': [1, 2, 5],\n",
       "                         'min_samples_split': [2, 5, 10],\n",
       "                         'oob_score': [True, False]})"
      ]
     },
     "execution_count": 16,
     "metadata": {},
     "output_type": "execute_result"
    }
   ],
   "source": [
    "# Random Forest\n",
    "parameters = {'criterion':('gini','entropy'), 'min_samples_split':[2,5,10],\n",
    "             'min_samples_leaf':[1,2,5],'max_features':[\"auto\", \"sqrt\", \"log2\"],\n",
    "             'oob_score':[True,False],'class_weight':[\"balanced\",\"balanced_subsample\"]}\n",
    "\n",
    "rf = RandomForestClassifier(200,random_state = 39)\n",
    "\n",
    "clf = GridSearchCV(rf, parameters,cv = 10)\n",
    "\n",
    "clf.fit(X_train,y_train)"
   ]
  },
  {
   "cell_type": "code",
   "execution_count": 17,
   "id": "ff97d918-554b-4e31-ac09-009f47941856",
   "metadata": {},
   "outputs": [
    {
     "data": {
      "text/plain": [
       "<matplotlib.legend.Legend at 0x25c31f9f370>"
      ]
     },
     "execution_count": 17,
     "metadata": {},
     "output_type": "execute_result"
    },
    {
     "data": {
      "image/png": "[encoded data removed]",
      "text/plain": [
       "<Figure size 900x600 with 1 Axes>"
      ]
     },
     "metadata": {
      "needs_background": "light"
     },
     "output_type": "display_data"
    }
   ],
   "source": [
    "scores = []\n",
    "accuracies = []\n",
    "\n",
    "for threshold in np.linspace(0,1,100):\n",
    "    probability_of_prediction = clf.predict_proba(X_train)\n",
    "\n",
    "    y_pred = (probability_of_prediction [:,1] >= threshold).astype('int')\n",
    "    \n",
    "    scores.append(roc_auc_score(y_train, y_pred))\n",
    "    accuracies.append(accuracy_score(y_train, y_pred))\n",
    "    \n",
    "plt.figure(figsize = [6,4],dpi = 150)\n",
    "plt.plot(np.linspace(0,1,100),scores, label = 'AUC Score')\n",
    "plt.plot(np.linspace(0,1,100),accuracies,label='Accuracy')\n",
    "plt.legend()"
   ]
  },
  {
   "cell_type": "code",
   "execution_count": 18,
   "id": "544f8c56-9157-4186-ab2d-2f4a0775dd4b",
   "metadata": {},
   "outputs": [
    {
     "name": "stdout",
     "output_type": "stream",
     "text": [
      "              precision    recall  f1-score   support\n",
      "\n",
      "           0       1.00      1.00      1.00        58\n",
      "           1       1.00      1.00      1.00        58\n",
      "\n",
      "    accuracy                           1.00       116\n",
      "   macro avg       1.00      1.00      1.00       116\n",
      "weighted avg       1.00      1.00      1.00       116\n",
      "\n"
     ]
    }
   ],
   "source": [
    "threshold = 0.5\n",
    "\n",
    "probability_of_prediction = clf.predict_proba(X_train)\n",
    "\n",
    "y_pred = (probability_of_prediction [:,1] >= threshold).astype('int')\n",
    "\n",
    "print(classification_report(y_train, y_pred))"
   ]
  },
  {
   "cell_type": "code",
   "execution_count": 19,
   "id": "2b561fcf-6078-485e-a376-c44f7d91d72c",
   "metadata": {},
   "outputs": [],
   "source": [
    "probability_of_prediction = clf.predict_proba(X_test)\n",
    "\n",
    "prediction = (probability_of_prediction [:,1] >= threshold).astype('int')\n",
    "\n",
    "pd.DataFrame({\"id\":range(59),\"label\":prediction}).to_csv(\"submission.csv\",index=None)"
   ]
  },
  {
   "cell_type": "markdown",
   "id": "a18605fa-6edc-4e8a-bd86-dc3a2bcd060e",
   "metadata": {},
   "source": [
    "Since the random forest classification model performed well, it's time for submissions! I did observe that regardless of what model I employed moving forward, the random forest classification model performed better. However, the Kaggle leaderboard score of 96.55% is pretty close to being fully accurate and so I tried to submit several attempts by correcting my predictions to obtain a score of 100%."
   ]
  }
 ],
 "metadata": {
  "kernelspec": {
   "display_name": "Python 3 (ipykernel)",
   "language": "python",
   "name": "python3"
  },
  "language_info": {
   "codemirror_mode": {
    "name": "ipython",
    "version": 3
   },
   "file_extension": ".py",
   "mimetype": "text/x-python",
   "name": "python",
   "nbconvert_exporter": "python",
   "pygments_lexer": "ipython3",
   "version": "3.9.7"
  }
 },
 "nbformat": 4,
 "nbformat_minor": 5
}
